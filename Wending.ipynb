{
 "cells": [
  {
   "cell_type": "code",
   "execution_count": 1,
   "id": "546a8fb5-d68f-47cd-954c-af59b95af1fb",
   "metadata": {},
   "outputs": [
    {
     "name": "stdout",
     "output_type": "stream",
     "text": [
      "Добрый день, дорогие программеры! Вам предстоит небольшой интерактив, чтобы получить дополнительное поздравление.\n"
     ]
    }
   ],
   "source": [
    "print(\"Добрый день, дорогие программеры! Вам предстоит небольшой интерактив, чтобы получить дополнительное поздравление.\")"
   ]
  },
  {
   "cell_type": "code",
   "execution_count": 2,
   "id": "63d0c2fa-8c72-4f53-8bac-0260fa3d0c4e",
   "metadata": {},
   "outputs": [
    {
     "name": "stdout",
     "output_type": "stream",
     "text": [
      "Задание 1. Напишите программу, выводящую Реджик, one love.\n"
     ]
    }
   ],
   "source": [
    "print(\"Задание 1. Напишите программу, выводящую Реджик, one love.\")"
   ]
  },
  {
   "cell_type": "code",
   "execution_count": null,
   "id": "00fe34cb-f420-42ba-8a5c-20a09c528342",
   "metadata": {},
   "outputs": [],
   "source": []
  },
  {
   "cell_type": "code",
   "execution_count": 2,
   "id": "dbc7eef5-d007-4e44-aa4b-aef300d64f7c",
   "metadata": {},
   "outputs": [],
   "source": [
    "q_1 = True"
   ]
  },
  {
   "cell_type": "code",
   "execution_count": 4,
   "id": "ac41ab51-8a36-4337-93f3-905b7a09c7fc",
   "metadata": {},
   "outputs": [
    {
     "name": "stdout",
     "output_type": "stream",
     "text": [
      "Задание 2. Вспомним имена новобрачных.\n"
     ]
    }
   ],
   "source": [
    "print(\"Задание 2. Вспомним имена новобрачных.\")"
   ]
  },
  {
   "cell_type": "code",
   "execution_count": 5,
   "id": "058ab830-3c9d-4913-87ab-789fb1e0e626",
   "metadata": {},
   "outputs": [
    {
     "name": "stdout",
     "output_type": "stream",
     "text": [
      "Муж, введи имя жены\n"
     ]
    }
   ],
   "source": [
    "print(\"Муж, введи имя жены\")"
   ]
  },
  {
   "cell_type": "code",
   "execution_count": 3,
   "id": "349972aa-f229-47dc-9b85-ca73641f546d",
   "metadata": {},
   "outputs": [
    {
     "name": "stdin",
     "output_type": "stream",
     "text": [
      "Как зовут невесту?  Миля\n"
     ]
    }
   ],
   "source": [
    "name_1 = input(\"Как зовут невесту? \").strip()"
   ]
  },
  {
   "cell_type": "code",
   "execution_count": null,
   "id": "9afe4aae-beda-415b-82d6-72a02ed3bf8d",
   "metadata": {},
   "outputs": [],
   "source": [
    "print(\"Жена, введи имя мужа\")"
   ]
  },
  {
   "cell_type": "code",
   "execution_count": 5,
   "id": "cfe75ec3-d8c2-4da9-a441-7fc3150d6a77",
   "metadata": {},
   "outputs": [
    {
     "name": "stdin",
     "output_type": "stream",
     "text": [
      "Как зовут мужа?  Саша\n"
     ]
    }
   ],
   "source": [
    "name_2 = input(\"Как зовут мужа? \").strip()"
   ]
  },
  {
   "cell_type": "code",
   "execution_count": 6,
   "id": "db3532bb-8824-4b54-bedb-e983f8e0586a",
   "metadata": {},
   "outputs": [],
   "source": [
    "if name_1 == \"Миля\" and name_2 == \"Саша\":\n",
    "    q_2 = True"
   ]
  },
  {
   "cell_type": "code",
   "execution_count": 7,
   "id": "d3fcb4b3-3d0c-4abb-a1d4-26272e4428ab",
   "metadata": {},
   "outputs": [
    {
     "name": "stdout",
     "output_type": "stream",
     "text": [
      "Задание 3. Немного математики. Напишите программу, возводящую число в степень.\n"
     ]
    }
   ],
   "source": [
    "print(\"Задание 3. Немного математики. Напишите программу, возводящую число в степень.\")"
   ]
  },
  {
   "cell_type": "code",
   "execution_count": 8,
   "id": "050eda05-3d59-4854-8ca0-0d567bd05669",
   "metadata": {},
   "outputs": [],
   "source": [
    "a = 2\n",
    "b = 2\n",
    "ans_3 = a**b"
   ]
  },
  {
   "cell_type": "code",
   "execution_count": 9,
   "id": "7ed74578-1bf8-4c62-92ee-c2c00674adb4",
   "metadata": {},
   "outputs": [],
   "source": [
    "if ans_3 == 4:\n",
    "    q_3 = True"
   ]
  },
  {
   "cell_type": "code",
   "execution_count": 10,
   "id": "9cfd8ddf-4990-4d3f-a02c-2b220a981276",
   "metadata": {
    "scrolled": true
   },
   "outputs": [
    {
     "ename": "SyntaxError",
     "evalue": "invalid syntax (2413268833.py, line 1)",
     "output_type": "error",
     "traceback": [
      "\u001b[0;36m  Cell \u001b[0;32mIn[10], line 1\u001b[0;36m\u001b[0m\n\u001b[0;31m    import IPython.display from display, HTML\u001b[0m\n\u001b[0m                           ^\u001b[0m\n\u001b[0;31mSyntaxError\u001b[0m\u001b[0;31m:\u001b[0m invalid syntax\n"
     ]
    }
   ],
   "source": [
    "from IPython.core.display import display, HTML\n",
    "if q_1 == True and q_2 == True and q_3 == True:\n",
    "    display(HTML(\"<a href='https://cloud.mail.ru/public/B1SJ/SUHxFrvtG'>Нажми меня</a>\"))"
   ]
  },
  {
   "cell_type": "code",
   "execution_count": null,
   "id": "10687a0f-70ab-4586-a2c8-1ef2c4c06375",
   "metadata": {},
   "outputs": [],
   "source": []
  }
 ],
 "metadata": {
  "kernelspec": {
   "display_name": "Python 3 (ipykernel)",
   "language": "python",
   "name": "python3"
  },
  "language_info": {
   "codemirror_mode": {
    "name": "ipython",
    "version": 3
   },
   "file_extension": ".py",
   "mimetype": "text/x-python",
   "name": "python",
   "nbconvert_exporter": "python",
   "pygments_lexer": "ipython3",
   "version": "3.10.16"
  }
 },
 "nbformat": 4,
 "nbformat_minor": 5
}
