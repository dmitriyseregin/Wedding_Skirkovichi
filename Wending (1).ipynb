{
  "metadata": {
    "kernelspec": {
      "name": "python",
      "display_name": "Python (Pyodide)",
      "language": "python"
    },
    "language_info": {
      "codemirror_mode": {
        "name": "python",
        "version": 3
      },
      "file_extension": ".py",
      "mimetype": "text/x-python",
      "name": "python",
      "nbconvert_exporter": "python",
      "pygments_lexer": "ipython3",
      "version": "3.8"
    }
  },
  "nbformat_minor": 5,
  "nbformat": 4,
  "cells": [
    {
      "id": "546a8fb5-d68f-47cd-954c-af59b95af1fb",
      "cell_type": "code",
      "source": "Добрый день, дорогие программеры! Вам предстоит небольшой интерактив, чтобы получить дополнительное поздравление.",
      "metadata": {
        "trusted": true
      },
      "outputs": [],
      "execution_count": null
    },
    {
      "id": "63d0c2fa-8c72-4f53-8bac-0260fa3d0c4e",
      "cell_type": "code",
      "source": "Задание 1. Напишите программу, выводящую \"Реджик, one love\".",
      "metadata": {
        "trusted": true
      },
      "outputs": [],
      "execution_count": null
    },
    {
      "id": "00fe34cb-f420-42ba-8a5c-20a09c528342",
      "cell_type": "code",
      "source": "",
      "metadata": {
        "trusted": true
      },
      "outputs": [],
      "execution_count": null
    },
    {
      "id": "dbc7eef5-d007-4e44-aa4b-aef300d64f7c",
      "cell_type": "code",
      "source": "q_1 = True",
      "metadata": {
        "trusted": true
      },
      "outputs": [],
      "execution_count": 9
    },
    {
      "id": "ac41ab51-8a36-4337-93f3-905b7a09c7fc",
      "cell_type": "code",
      "source": "Задание 2. Вспомним имена новобрачных.",
      "metadata": {
        "trusted": true
      },
      "outputs": [],
      "execution_count": null
    },
    {
      "id": "058ab830-3c9d-4913-87ab-789fb1e0e626",
      "cell_type": "code",
      "source": "Муж, введи имя жены",
      "metadata": {
        "trusted": true
      },
      "outputs": [],
      "execution_count": null
    },
    {
      "id": "349972aa-f229-47dc-9b85-ca73641f546d",
      "cell_type": "code",
      "source": "name_1 = input(\"Как зовут невесту? \").strip()",
      "metadata": {
        "trusted": true
      },
      "outputs": [
        {
          "output_type": "stream",
          "name": "stdin",
          "text": "Как зовут невесту?  Миля\n"
        }
      ],
      "execution_count": 10
    },
    {
      "id": "9afe4aae-beda-415b-82d6-72a02ed3bf8d",
      "cell_type": "code",
      "source": "Жена, введи имя мужа",
      "metadata": {
        "trusted": true
      },
      "outputs": [],
      "execution_count": null
    },
    {
      "id": "cfe75ec3-d8c2-4da9-a441-7fc3150d6a77",
      "cell_type": "code",
      "source": "name_2 = input(\"Как зовут мужа? \").strip()",
      "metadata": {
        "trusted": true
      },
      "outputs": [
        {
          "output_type": "stream",
          "name": "stdin",
          "text": "Как зовут мужа?  Саша\n"
        }
      ],
      "execution_count": 11
    },
    {
      "id": "db3532bb-8824-4b54-bedb-e983f8e0586a",
      "cell_type": "code",
      "source": "if name_1 == \"Миля\" and name_2 == \"Саша\":\n    q_2 = True",
      "metadata": {
        "trusted": true
      },
      "outputs": [],
      "execution_count": 12
    },
    {
      "id": "d3fcb4b3-3d0c-4abb-a1d4-26272e4428ab",
      "cell_type": "code",
      "source": "Задание 3. Немного математики. Напишите программу, возводящую число в степень.",
      "metadata": {
        "trusted": true
      },
      "outputs": [],
      "execution_count": null
    },
    {
      "id": "050eda05-3d59-4854-8ca0-0d567bd05669",
      "cell_type": "code",
      "source": "a = 2\nb = 2\nans_3 = a**b",
      "metadata": {
        "trusted": true
      },
      "outputs": [],
      "execution_count": 13
    },
    {
      "id": "7ed74578-1bf8-4c62-92ee-c2c00674adb4",
      "cell_type": "code",
      "source": "if ans_3 == 4:\n    q_3 = True",
      "metadata": {
        "trusted": true
      },
      "outputs": [],
      "execution_count": 14
    },
    {
      "id": "9cfd8ddf-4990-4d3f-a02c-2b220a981276",
      "cell_type": "code",
      "source": "if q_1 == True and q_2 == True and q_3 == True:\n    display(HTML(\"<a href='https://cloud.mail.ru/public/B1SJ/SUHxFrvtG'>Нажми меня</a>\"))",
      "metadata": {
        "trusted": true,
        "scrolled": true
      },
      "outputs": [
        {
          "output_type": "display_data",
          "data": {
            "text/plain": "<IPython.core.display.HTML object>",
            "text/html": "<a href='https://cloud.mail.ru/public/B1SJ/SUHxFrvtG'>Нажми меня</a>"
          },
          "metadata": {}
        }
      ],
      "execution_count": 15
    },
    {
      "id": "10687a0f-70ab-4586-a2c8-1ef2c4c06375",
      "cell_type": "code",
      "source": "",
      "metadata": {
        "trusted": true
      },
      "outputs": [],
      "execution_count": null
    }
  ]
}